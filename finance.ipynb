{
 "cells": [
  {
   "cell_type": "markdown",
   "metadata": {},
   "source": [
    "# Relation between stock price and volume"
   ]
  },
  {
   "cell_type": "markdown",
   "metadata": {},
   "source": [
    "The data includes daily close/open/high/low price and volume. Let's see first how data looks like."
   ]
  },
  {
   "cell_type": "markdown",
   "metadata": {},
   "source": [
    "I'll follow these steps:\n",
    "1. load data into dataframe\n",
    "2. data wrangling & plot\n",
    "3. fit model\n",
    "4. evaluate result"
   ]
  },
  {
   "cell_type": "markdown",
   "metadata": {},
   "source": [
    "## Load data"
   ]
  },
  {
   "cell_type": "code",
   "execution_count": 1,
   "metadata": {
    "collapsed": true
   },
   "outputs": [],
   "source": [
    "import pandas as pd\n",
    "import numpy as np\n",
    "import matplotlib.pyplot as plt\n",
    "%matplotlib inline"
   ]
  },
  {
   "cell_type": "code",
   "execution_count": 2,
   "metadata": {},
   "outputs": [
    {
     "ename": "IOError",
     "evalue": "File ../Downloads/AMD.csv does not exist",
     "output_type": "error",
     "traceback": [
      "\u001b[0;31m---------------------------------------------------------------------------\u001b[0m",
      "\u001b[0;31mIOError\u001b[0m                                   Traceback (most recent call last)",
      "\u001b[0;32m<ipython-input-2-f792c42346f0>\u001b[0m in \u001b[0;36m<module>\u001b[0;34m()\u001b[0m\n\u001b[1;32m      3\u001b[0m \u001b[0;31m# read .csv files into data frame\u001b[0m\u001b[0;34m\u001b[0m\u001b[0;34m\u001b[0m\u001b[0m\n\u001b[1;32m      4\u001b[0m \u001b[0;34m\u001b[0m\u001b[0m\n\u001b[0;32m----> 5\u001b[0;31m \u001b[0mamd\u001b[0m \u001b[0;34m=\u001b[0m \u001b[0mpd\u001b[0m\u001b[0;34m.\u001b[0m\u001b[0mread_csv\u001b[0m\u001b[0;34m(\u001b[0m\u001b[0;34m'../Downloads/AMD.csv'\u001b[0m\u001b[0;34m)\u001b[0m\u001b[0;34m\u001b[0m\u001b[0m\n\u001b[0m\u001b[1;32m      6\u001b[0m \u001b[0mgoogle\u001b[0m \u001b[0;34m=\u001b[0m \u001b[0mpd\u001b[0m\u001b[0;34m.\u001b[0m\u001b[0mread_csv\u001b[0m\u001b[0;34m(\u001b[0m\u001b[0;34m'../Downloads/GOOGL.csv'\u001b[0m\u001b[0;34m)\u001b[0m\u001b[0;34m\u001b[0m\u001b[0m\n",
      "\u001b[0;32m/Users/genius_hee/anaconda/lib/python2.7/site-packages/pandas/io/parsers.pyc\u001b[0m in \u001b[0;36mparser_f\u001b[0;34m(filepath_or_buffer, sep, delimiter, header, names, index_col, usecols, squeeze, prefix, mangle_dupe_cols, dtype, engine, converters, true_values, false_values, skipinitialspace, skiprows, nrows, na_values, keep_default_na, na_filter, verbose, skip_blank_lines, parse_dates, infer_datetime_format, keep_date_col, date_parser, dayfirst, iterator, chunksize, compression, thousands, decimal, lineterminator, quotechar, quoting, escapechar, comment, encoding, dialect, tupleize_cols, error_bad_lines, warn_bad_lines, skipfooter, skip_footer, doublequote, delim_whitespace, as_recarray, compact_ints, use_unsigned, low_memory, buffer_lines, memory_map, float_precision)\u001b[0m\n\u001b[1;32m    653\u001b[0m                     skip_blank_lines=skip_blank_lines)\n\u001b[1;32m    654\u001b[0m \u001b[0;34m\u001b[0m\u001b[0m\n\u001b[0;32m--> 655\u001b[0;31m         \u001b[0;32mreturn\u001b[0m \u001b[0m_read\u001b[0m\u001b[0;34m(\u001b[0m\u001b[0mfilepath_or_buffer\u001b[0m\u001b[0;34m,\u001b[0m \u001b[0mkwds\u001b[0m\u001b[0;34m)\u001b[0m\u001b[0;34m\u001b[0m\u001b[0m\n\u001b[0m\u001b[1;32m    656\u001b[0m \u001b[0;34m\u001b[0m\u001b[0m\n\u001b[1;32m    657\u001b[0m     \u001b[0mparser_f\u001b[0m\u001b[0;34m.\u001b[0m\u001b[0m__name__\u001b[0m \u001b[0;34m=\u001b[0m \u001b[0mname\u001b[0m\u001b[0;34m\u001b[0m\u001b[0m\n",
      "\u001b[0;32m/Users/genius_hee/anaconda/lib/python2.7/site-packages/pandas/io/parsers.pyc\u001b[0m in \u001b[0;36m_read\u001b[0;34m(filepath_or_buffer, kwds)\u001b[0m\n\u001b[1;32m    403\u001b[0m \u001b[0;34m\u001b[0m\u001b[0m\n\u001b[1;32m    404\u001b[0m     \u001b[0;31m# Create the parser.\u001b[0m\u001b[0;34m\u001b[0m\u001b[0;34m\u001b[0m\u001b[0m\n\u001b[0;32m--> 405\u001b[0;31m     \u001b[0mparser\u001b[0m \u001b[0;34m=\u001b[0m \u001b[0mTextFileReader\u001b[0m\u001b[0;34m(\u001b[0m\u001b[0mfilepath_or_buffer\u001b[0m\u001b[0;34m,\u001b[0m \u001b[0;34m**\u001b[0m\u001b[0mkwds\u001b[0m\u001b[0;34m)\u001b[0m\u001b[0;34m\u001b[0m\u001b[0m\n\u001b[0m\u001b[1;32m    406\u001b[0m \u001b[0;34m\u001b[0m\u001b[0m\n\u001b[1;32m    407\u001b[0m     \u001b[0;32mif\u001b[0m \u001b[0mchunksize\u001b[0m \u001b[0;32mor\u001b[0m \u001b[0miterator\u001b[0m\u001b[0;34m:\u001b[0m\u001b[0;34m\u001b[0m\u001b[0m\n",
      "\u001b[0;32m/Users/genius_hee/anaconda/lib/python2.7/site-packages/pandas/io/parsers.pyc\u001b[0m in \u001b[0;36m__init__\u001b[0;34m(self, f, engine, **kwds)\u001b[0m\n\u001b[1;32m    760\u001b[0m             \u001b[0mself\u001b[0m\u001b[0;34m.\u001b[0m\u001b[0moptions\u001b[0m\u001b[0;34m[\u001b[0m\u001b[0;34m'has_index_names'\u001b[0m\u001b[0;34m]\u001b[0m \u001b[0;34m=\u001b[0m \u001b[0mkwds\u001b[0m\u001b[0;34m[\u001b[0m\u001b[0;34m'has_index_names'\u001b[0m\u001b[0;34m]\u001b[0m\u001b[0;34m\u001b[0m\u001b[0m\n\u001b[1;32m    761\u001b[0m \u001b[0;34m\u001b[0m\u001b[0m\n\u001b[0;32m--> 762\u001b[0;31m         \u001b[0mself\u001b[0m\u001b[0;34m.\u001b[0m\u001b[0m_make_engine\u001b[0m\u001b[0;34m(\u001b[0m\u001b[0mself\u001b[0m\u001b[0;34m.\u001b[0m\u001b[0mengine\u001b[0m\u001b[0;34m)\u001b[0m\u001b[0;34m\u001b[0m\u001b[0m\n\u001b[0m\u001b[1;32m    763\u001b[0m \u001b[0;34m\u001b[0m\u001b[0m\n\u001b[1;32m    764\u001b[0m     \u001b[0;32mdef\u001b[0m \u001b[0mclose\u001b[0m\u001b[0;34m(\u001b[0m\u001b[0mself\u001b[0m\u001b[0;34m)\u001b[0m\u001b[0;34m:\u001b[0m\u001b[0;34m\u001b[0m\u001b[0m\n",
      "\u001b[0;32m/Users/genius_hee/anaconda/lib/python2.7/site-packages/pandas/io/parsers.pyc\u001b[0m in \u001b[0;36m_make_engine\u001b[0;34m(self, engine)\u001b[0m\n\u001b[1;32m    964\u001b[0m     \u001b[0;32mdef\u001b[0m \u001b[0m_make_engine\u001b[0m\u001b[0;34m(\u001b[0m\u001b[0mself\u001b[0m\u001b[0;34m,\u001b[0m \u001b[0mengine\u001b[0m\u001b[0;34m=\u001b[0m\u001b[0;34m'c'\u001b[0m\u001b[0;34m)\u001b[0m\u001b[0;34m:\u001b[0m\u001b[0;34m\u001b[0m\u001b[0m\n\u001b[1;32m    965\u001b[0m         \u001b[0;32mif\u001b[0m \u001b[0mengine\u001b[0m \u001b[0;34m==\u001b[0m \u001b[0;34m'c'\u001b[0m\u001b[0;34m:\u001b[0m\u001b[0;34m\u001b[0m\u001b[0m\n\u001b[0;32m--> 966\u001b[0;31m             \u001b[0mself\u001b[0m\u001b[0;34m.\u001b[0m\u001b[0m_engine\u001b[0m \u001b[0;34m=\u001b[0m \u001b[0mCParserWrapper\u001b[0m\u001b[0;34m(\u001b[0m\u001b[0mself\u001b[0m\u001b[0;34m.\u001b[0m\u001b[0mf\u001b[0m\u001b[0;34m,\u001b[0m \u001b[0;34m**\u001b[0m\u001b[0mself\u001b[0m\u001b[0;34m.\u001b[0m\u001b[0moptions\u001b[0m\u001b[0;34m)\u001b[0m\u001b[0;34m\u001b[0m\u001b[0m\n\u001b[0m\u001b[1;32m    967\u001b[0m         \u001b[0;32melse\u001b[0m\u001b[0;34m:\u001b[0m\u001b[0;34m\u001b[0m\u001b[0m\n\u001b[1;32m    968\u001b[0m             \u001b[0;32mif\u001b[0m \u001b[0mengine\u001b[0m \u001b[0;34m==\u001b[0m \u001b[0;34m'python'\u001b[0m\u001b[0;34m:\u001b[0m\u001b[0;34m\u001b[0m\u001b[0m\n",
      "\u001b[0;32m/Users/genius_hee/anaconda/lib/python2.7/site-packages/pandas/io/parsers.pyc\u001b[0m in \u001b[0;36m__init__\u001b[0;34m(self, src, **kwds)\u001b[0m\n\u001b[1;32m   1580\u001b[0m         \u001b[0mkwds\u001b[0m\u001b[0;34m[\u001b[0m\u001b[0;34m'allow_leading_cols'\u001b[0m\u001b[0;34m]\u001b[0m \u001b[0;34m=\u001b[0m \u001b[0mself\u001b[0m\u001b[0;34m.\u001b[0m\u001b[0mindex_col\u001b[0m \u001b[0;32mis\u001b[0m \u001b[0;32mnot\u001b[0m \u001b[0mFalse\u001b[0m\u001b[0;34m\u001b[0m\u001b[0m\n\u001b[1;32m   1581\u001b[0m \u001b[0;34m\u001b[0m\u001b[0m\n\u001b[0;32m-> 1582\u001b[0;31m         \u001b[0mself\u001b[0m\u001b[0;34m.\u001b[0m\u001b[0m_reader\u001b[0m \u001b[0;34m=\u001b[0m \u001b[0mparsers\u001b[0m\u001b[0;34m.\u001b[0m\u001b[0mTextReader\u001b[0m\u001b[0;34m(\u001b[0m\u001b[0msrc\u001b[0m\u001b[0;34m,\u001b[0m \u001b[0;34m**\u001b[0m\u001b[0mkwds\u001b[0m\u001b[0;34m)\u001b[0m\u001b[0;34m\u001b[0m\u001b[0m\n\u001b[0m\u001b[1;32m   1583\u001b[0m \u001b[0;34m\u001b[0m\u001b[0m\n\u001b[1;32m   1584\u001b[0m         \u001b[0;31m# XXX\u001b[0m\u001b[0;34m\u001b[0m\u001b[0;34m\u001b[0m\u001b[0m\n",
      "\u001b[0;32mpandas/_libs/parsers.pyx\u001b[0m in \u001b[0;36mpandas._libs.parsers.TextReader.__cinit__ (pandas/_libs/parsers.c:4209)\u001b[0;34m()\u001b[0m\n",
      "\u001b[0;32mpandas/_libs/parsers.pyx\u001b[0m in \u001b[0;36mpandas._libs.parsers.TextReader._setup_parser_source (pandas/_libs/parsers.c:8873)\u001b[0;34m()\u001b[0m\n",
      "\u001b[0;31mIOError\u001b[0m: File ../Downloads/AMD.csv does not exist"
     ]
    }
   ],
   "source": [
    "# historical daily Stock price Data downloaded from yahoo.com/finance\n",
    "# choose 2 big companies randomly.\n",
    "# read .csv files into data frame\n",
    "\n",
    "amd = pd.read_csv('../Downloads/AMD.csv')\n",
    "google = pd.read_csv('../Downloads/GOOGL.csv')"
   ]
  },
  {
   "cell_type": "code",
   "execution_count": 3,
   "metadata": {},
   "outputs": [
    {
     "data": {
      "text/html": [
       "<div>\n",
       "<style>\n",
       "    .dataframe thead tr:only-child th {\n",
       "        text-align: right;\n",
       "    }\n",
       "\n",
       "    .dataframe thead th {\n",
       "        text-align: left;\n",
       "    }\n",
       "\n",
       "    .dataframe tbody tr th {\n",
       "        vertical-align: top;\n",
       "    }\n",
       "</style>\n",
       "<table border=\"1\" class=\"dataframe\">\n",
       "  <thead>\n",
       "    <tr style=\"text-align: right;\">\n",
       "      <th></th>\n",
       "      <th>Date</th>\n",
       "      <th>Open</th>\n",
       "      <th>High</th>\n",
       "      <th>Low</th>\n",
       "      <th>Close</th>\n",
       "      <th>Volume</th>\n",
       "      <th>Adj Close</th>\n",
       "    </tr>\n",
       "  </thead>\n",
       "  <tbody>\n",
       "    <tr>\n",
       "      <th>0</th>\n",
       "      <td>2017-05-03</td>\n",
       "      <td>10.29</td>\n",
       "      <td>10.68</td>\n",
       "      <td>9.85</td>\n",
       "      <td>10.39</td>\n",
       "      <td>140899400</td>\n",
       "      <td>10.39</td>\n",
       "    </tr>\n",
       "    <tr>\n",
       "      <th>1</th>\n",
       "      <td>2017-05-02</td>\n",
       "      <td>11.73</td>\n",
       "      <td>11.76</td>\n",
       "      <td>10.30</td>\n",
       "      <td>10.32</td>\n",
       "      <td>266683200</td>\n",
       "      <td>10.32</td>\n",
       "    </tr>\n",
       "    <tr>\n",
       "      <th>2</th>\n",
       "      <td>2017-05-01</td>\n",
       "      <td>13.43</td>\n",
       "      <td>13.63</td>\n",
       "      <td>13.25</td>\n",
       "      <td>13.62</td>\n",
       "      <td>57267000</td>\n",
       "      <td>13.62</td>\n",
       "    </tr>\n",
       "    <tr>\n",
       "      <th>3</th>\n",
       "      <td>2017-04-28</td>\n",
       "      <td>13.73</td>\n",
       "      <td>13.76</td>\n",
       "      <td>13.16</td>\n",
       "      <td>13.30</td>\n",
       "      <td>50144600</td>\n",
       "      <td>13.30</td>\n",
       "    </tr>\n",
       "    <tr>\n",
       "      <th>4</th>\n",
       "      <td>2017-04-27</td>\n",
       "      <td>13.43</td>\n",
       "      <td>13.70</td>\n",
       "      <td>13.37</td>\n",
       "      <td>13.62</td>\n",
       "      <td>31013900</td>\n",
       "      <td>13.62</td>\n",
       "    </tr>\n",
       "  </tbody>\n",
       "</table>\n",
       "</div>"
      ],
      "text/plain": [
       "         Date   Open   High    Low  Close     Volume  Adj Close\n",
       "0  2017-05-03  10.29  10.68   9.85  10.39  140899400      10.39\n",
       "1  2017-05-02  11.73  11.76  10.30  10.32  266683200      10.32\n",
       "2  2017-05-01  13.43  13.63  13.25  13.62   57267000      13.62\n",
       "3  2017-04-28  13.73  13.76  13.16  13.30   50144600      13.30\n",
       "4  2017-04-27  13.43  13.70  13.37  13.62   31013900      13.62"
      ]
     },
     "execution_count": 3,
     "metadata": {},
     "output_type": "execute_result"
    }
   ],
   "source": [
    "# 2009-05-23 ~ 2017-05-03\n",
    "# have 2001 rows and 7 columns\n",
    "\n",
    "amd.head()\n",
    "#amd.info()\n",
    "#amd.shape\n",
    "#amd.describe"
   ]
  },
  {
   "cell_type": "markdown",
   "metadata": {},
   "source": [
    "## Data Wrangling & plotting"
   ]
  },
  {
   "cell_type": "code",
   "execution_count": 4,
   "metadata": {
    "collapsed": true
   },
   "outputs": [],
   "source": [
    "# drop high, low, close columns, and change name of Adj Close to Close.\n",
    "\n",
    "amd.drop(['High','Low','Close'], axis=1, inplace=True)\n",
    "amd.rename(columns={'Adj Close' : 'Close'}, inplace=True)\n",
    "\n",
    "google.drop(['High', 'Low', 'Close'], axis=1, inplace=True)\n",
    "google.rename(columns={'Adj Close' : 'Close'}, inplace=True)"
   ]
  },
  {
   "cell_type": "code",
   "execution_count": 5,
   "metadata": {},
   "outputs": [
    {
     "data": {
      "image/png": "[encoded data removed]",
      "text/plain": [
       "<matplotlib.figure.Figure at 0x110504390>"
      ]
     },
     "metadata": {},
     "output_type": "display_data"
    }
   ],
   "source": [
    "# reverse row order because as you can see above data, it starts from recent date. \n",
    "amd = amd.iloc[::-1]\n",
    "\n",
    "# use Date column as index and delete index name.\n",
    "amd.set_index(['Date'], inplace=True)\n",
    "amd.index.name=None\n",
    "\n",
    "# plot\n",
    "amd['Close'].plot()\n",
    "plt.show()"
   ]
  },
  {
   "cell_type": "code",
   "execution_count": 6,
   "metadata": {},
   "outputs": [
    {
     "data": {
      "image/png": "[encoded data removed]",
      "text/plain": [
       "<matplotlib.figure.Figure at 0x110769590>"
      ]
     },
     "metadata": {},
     "output_type": "display_data"
    }
   ],
   "source": [
    "# reverse row order \n",
    "google = google.iloc[::-1]\n",
    "\n",
    "google.set_index(['Date'], inplace=True)\n",
    "google.index.name=None\n",
    "\n",
    "google['Close'].plot()\n",
    "plt.show()\n"
   ]
  },
  {
   "cell_type": "code",
   "execution_count": 8,
   "metadata": {
    "collapsed": true
   },
   "outputs": [],
   "source": [
    "# make new columns; returns and log_returns\n",
    "\n",
    "import math\n",
    "\n",
    "amd['returns'] = amd['Close'] / amd['Open']\n",
    "# amd['log_returns'] = amd['returns'].apply(lambda x: math.log10(x))\n",
    "\n",
    "\n",
    "google['returns'] = google['Close'] / google['Open']\n",
    "# google['log_returns'] = google['returns'].apply(lambda x: math.log10(x))\n",
    "\n",
    "\n",
    "amd = amd[['Open', 'Close', 'Volume', 'returns',]]\n",
    "google = google[['Open', 'Close', 'Volume', 'returns']]"
   ]
  },
  {
   "cell_type": "markdown",
   "metadata": {},
   "source": [
    "You may want to use log_returns instead of returns, if the case, use apply function."
   ]
  },
  {
   "cell_type": "code",
   "execution_count": 9,
   "metadata": {},
   "outputs": [
    {
     "data": {
      "text/html": [
       "<div>\n",
       "<style>\n",
       "    .dataframe thead tr:only-child th {\n",
       "        text-align: right;\n",
       "    }\n",
       "\n",
       "    .dataframe thead th {\n",
       "        text-align: left;\n",
       "    }\n",
       "\n",
       "    .dataframe tbody tr th {\n",
       "        vertical-align: top;\n",
       "    }\n",
       "</style>\n",
       "<table border=\"1\" class=\"dataframe\">\n",
       "  <thead>\n",
       "    <tr style=\"text-align: right;\">\n",
       "      <th></th>\n",
       "      <th>Open</th>\n",
       "      <th>Close</th>\n",
       "      <th>Volume</th>\n",
       "      <th>returns</th>\n",
       "    </tr>\n",
       "  </thead>\n",
       "  <tbody>\n",
       "    <tr>\n",
       "      <th>2009-05-22</th>\n",
       "      <td>4.43</td>\n",
       "      <td>4.26</td>\n",
       "      <td>8274300</td>\n",
       "      <td>0.961625</td>\n",
       "    </tr>\n",
       "    <tr>\n",
       "      <th>2009-05-26</th>\n",
       "      <td>4.26</td>\n",
       "      <td>4.53</td>\n",
       "      <td>16094300</td>\n",
       "      <td>1.063380</td>\n",
       "    </tr>\n",
       "    <tr>\n",
       "      <th>2009-05-27</th>\n",
       "      <td>4.57</td>\n",
       "      <td>4.71</td>\n",
       "      <td>21512600</td>\n",
       "      <td>1.030635</td>\n",
       "    </tr>\n",
       "    <tr>\n",
       "      <th>2009-05-28</th>\n",
       "      <td>4.75</td>\n",
       "      <td>4.70</td>\n",
       "      <td>18383900</td>\n",
       "      <td>0.989474</td>\n",
       "    </tr>\n",
       "    <tr>\n",
       "      <th>2009-05-29</th>\n",
       "      <td>4.71</td>\n",
       "      <td>4.54</td>\n",
       "      <td>24539700</td>\n",
       "      <td>0.963907</td>\n",
       "    </tr>\n",
       "  </tbody>\n",
       "</table>\n",
       "</div>"
      ],
      "text/plain": [
       "            Open  Close    Volume   returns\n",
       "2009-05-22  4.43   4.26   8274300  0.961625\n",
       "2009-05-26  4.26   4.53  16094300  1.063380\n",
       "2009-05-27  4.57   4.71  21512600  1.030635\n",
       "2009-05-28  4.75   4.70  18383900  0.989474\n",
       "2009-05-29  4.71   4.54  24539700  0.963907"
      ]
     },
     "execution_count": 9,
     "metadata": {},
     "output_type": "execute_result"
    }
   ],
   "source": [
    "# check what has changed; row order, columns\n",
    "amd.head()"
   ]
  },
  {
   "cell_type": "markdown",
   "metadata": {},
   "source": [
    "I'd like to figure out relationship between daily returns and volume."
   ]
  },
  {
   "cell_type": "markdown",
   "metadata": {},
   "source": [
    "Set volume as independent variable(X), return as dependent variable(y)."
   ]
  },
  {
   "cell_type": "markdown",
   "metadata": {},
   "source": [
    "X_train should be convert into numpy array."
   ]
  },
  {
   "cell_type": "code",
   "execution_count": 10,
   "metadata": {
    "scrolled": true
   },
   "outputs": [
    {
     "name": "stderr",
     "output_type": "stream",
     "text": [
      "/Users/genius_hee/anaconda/lib/python2.7/site-packages/ipykernel_launcher.py:7: RuntimeWarning: divide by zero encountered in double_scalars\n",
      "  import sys\n"
     ]
    }
   ],
   "source": [
    "# to compare daily change of price with daily volume change use zip func.\n",
    "# change = today volume / yesterday volume\n",
    "# to calculate change, we need to transfer data type of Volume into float.\n",
    "amd.Volume = amd.Volume.astype(float)\n",
    "change = []\n",
    "for a, b in zip(amd.Volume, amd.Volume[1:]):\n",
    "    x = b/a\n",
    "    change.append(x)"
   ]
  },
  {
   "cell_type": "code",
   "execution_count": 11,
   "metadata": {
    "collapsed": true
   },
   "outputs": [],
   "source": [
    "google.Volume = google.Volume.astype(float)\n",
    "change_gl = []\n",
    "for a, b in zip(google.Volume, google.Volume[1:]):\n",
    "    x = b/a\n",
    "    change_gl.append(x)"
   ]
  },
  {
   "cell_type": "code",
   "execution_count": 12,
   "metadata": {},
   "outputs": [
    {
     "data": {
      "text/plain": [
       "2000"
      ]
     },
     "execution_count": 12,
     "metadata": {},
     "output_type": "execute_result"
    }
   ],
   "source": [
    "# changed\n",
    "len(change)"
   ]
  },
  {
   "cell_type": "code",
   "execution_count": 13,
   "metadata": {
    "scrolled": true
   },
   "outputs": [
    {
     "data": {
      "text/html": [
       "<div>\n",
       "<style>\n",
       "    .dataframe thead tr:only-child th {\n",
       "        text-align: right;\n",
       "    }\n",
       "\n",
       "    .dataframe thead th {\n",
       "        text-align: left;\n",
       "    }\n",
       "\n",
       "    .dataframe tbody tr th {\n",
       "        vertical-align: top;\n",
       "    }\n",
       "</style>\n",
       "<table border=\"1\" class=\"dataframe\">\n",
       "  <thead>\n",
       "    <tr style=\"text-align: right;\">\n",
       "      <th></th>\n",
       "      <th>Open</th>\n",
       "      <th>Close</th>\n",
       "      <th>Volume</th>\n",
       "      <th>returns</th>\n",
       "    </tr>\n",
       "  </thead>\n",
       "  <tbody>\n",
       "    <tr>\n",
       "      <th>2009-05-26</th>\n",
       "      <td>391.950009</td>\n",
       "      <td>202.382388</td>\n",
       "      <td>6202700.0</td>\n",
       "      <td>0.516347</td>\n",
       "    </tr>\n",
       "    <tr>\n",
       "      <th>2009-05-27</th>\n",
       "      <td>405.640010</td>\n",
       "      <td>202.982989</td>\n",
       "      <td>6062500.0</td>\n",
       "      <td>0.500402</td>\n",
       "    </tr>\n",
       "    <tr>\n",
       "      <th>2009-05-28</th>\n",
       "      <td>408.679997</td>\n",
       "      <td>205.405413</td>\n",
       "      <td>5332200.0</td>\n",
       "      <td>0.502607</td>\n",
       "    </tr>\n",
       "    <tr>\n",
       "      <th>2009-05-29</th>\n",
       "      <td>412.110005</td>\n",
       "      <td>208.823825</td>\n",
       "      <td>5291100.0</td>\n",
       "      <td>0.506719</td>\n",
       "    </tr>\n",
       "    <tr>\n",
       "      <th>2009-06-01</th>\n",
       "      <td>418.729996</td>\n",
       "      <td>213.493503</td>\n",
       "      <td>6638100.0</td>\n",
       "      <td>0.509860</td>\n",
       "    </tr>\n",
       "  </tbody>\n",
       "</table>\n",
       "</div>"
      ],
      "text/plain": [
       "                  Open       Close     Volume   returns\n",
       "2009-05-26  391.950009  202.382388  6202700.0  0.516347\n",
       "2009-05-27  405.640010  202.982989  6062500.0  0.500402\n",
       "2009-05-28  408.679997  205.405413  5332200.0  0.502607\n",
       "2009-05-29  412.110005  208.823825  5291100.0  0.506719\n",
       "2009-06-01  418.729996  213.493503  6638100.0  0.509860"
      ]
     },
     "execution_count": 13,
     "metadata": {},
     "output_type": "execute_result"
    }
   ],
   "source": [
    "# we will use 2000 data, so delete oldest data row \n",
    "# because we can't calculate volume change in 2009-05-22. we don't volume data on 2009-05-21.\n",
    "amd.drop(amd.index[0], inplace=True)\n",
    "#amd.head()\n",
    "\n",
    "google.drop(google.index[0], inplace=True)\n",
    "google.head()"
   ]
  },
  {
   "cell_type": "markdown",
   "metadata": {},
   "source": [
    "Done!"
   ]
  },
  {
   "cell_type": "code",
   "execution_count": 14,
   "metadata": {
    "collapsed": true
   },
   "outputs": [],
   "source": [
    "# merge change into dataframe.\n",
    "amd['vol_change'] = np.array(change)\n",
    "google['vol_change'] = np.array(change_gl)"
   ]
  },
  {
   "cell_type": "markdown",
   "metadata": {},
   "source": [
    "I found an error which is.."
   ]
  },
  {
   "cell_type": "code",
   "execution_count": 15,
   "metadata": {
    "scrolled": true
   },
   "outputs": [
    {
     "data": {
      "text/html": [
       "<div>\n",
       "<style>\n",
       "    .dataframe thead tr:only-child th {\n",
       "        text-align: right;\n",
       "    }\n",
       "\n",
       "    .dataframe thead th {\n",
       "        text-align: left;\n",
       "    }\n",
       "\n",
       "    .dataframe tbody tr th {\n",
       "        vertical-align: top;\n",
       "    }\n",
       "</style>\n",
       "<table border=\"1\" class=\"dataframe\">\n",
       "  <thead>\n",
       "    <tr style=\"text-align: right;\">\n",
       "      <th></th>\n",
       "      <th>Open</th>\n",
       "      <th>Close</th>\n",
       "      <th>Volume</th>\n",
       "      <th>returns</th>\n",
       "      <th>vol_change</th>\n",
       "    </tr>\n",
       "  </thead>\n",
       "  <tbody>\n",
       "    <tr>\n",
       "      <th>count</th>\n",
       "      <td>2000.000000</td>\n",
       "      <td>2000.000000</td>\n",
       "      <td>2.000000e+03</td>\n",
       "      <td>2000.000000</td>\n",
       "      <td>2000.000000</td>\n",
       "    </tr>\n",
       "    <tr>\n",
       "      <th>mean</th>\n",
       "      <td>5.328640</td>\n",
       "      <td>5.326635</td>\n",
       "      <td>2.526422e+07</td>\n",
       "      <td>0.999819</td>\n",
       "      <td>inf</td>\n",
       "    </tr>\n",
       "    <tr>\n",
       "      <th>std</th>\n",
       "      <td>2.781387</td>\n",
       "      <td>2.781796</td>\n",
       "      <td>2.084619e+07</td>\n",
       "      <td>0.028920</td>\n",
       "      <td>NaN</td>\n",
       "    </tr>\n",
       "    <tr>\n",
       "      <th>min</th>\n",
       "      <td>1.620000</td>\n",
       "      <td>1.620000</td>\n",
       "      <td>0.000000e+00</td>\n",
       "      <td>0.858268</td>\n",
       "      <td>0.000000</td>\n",
       "    </tr>\n",
       "    <tr>\n",
       "      <th>25%</th>\n",
       "      <td>2.985000</td>\n",
       "      <td>2.995000</td>\n",
       "      <td>1.328370e+07</td>\n",
       "      <td>0.983522</td>\n",
       "      <td>0.749006</td>\n",
       "    </tr>\n",
       "    <tr>\n",
       "      <th>50%</th>\n",
       "      <td>4.300000</td>\n",
       "      <td>4.290000</td>\n",
       "      <td>1.981110e+07</td>\n",
       "      <td>0.998504</td>\n",
       "      <td>0.971195</td>\n",
       "    </tr>\n",
       "    <tr>\n",
       "      <th>75%</th>\n",
       "      <td>7.360000</td>\n",
       "      <td>7.342500</td>\n",
       "      <td>3.007502e+07</td>\n",
       "      <td>1.014892</td>\n",
       "      <td>1.291609</td>\n",
       "    </tr>\n",
       "    <tr>\n",
       "      <th>max</th>\n",
       "      <td>15.450000</td>\n",
       "      <td>15.200000</td>\n",
       "      <td>2.666832e+08</td>\n",
       "      <td>1.250784</td>\n",
       "      <td>inf</td>\n",
       "    </tr>\n",
       "  </tbody>\n",
       "</table>\n",
       "</div>"
      ],
      "text/plain": [
       "              Open        Close        Volume      returns   vol_change\n",
       "count  2000.000000  2000.000000  2.000000e+03  2000.000000  2000.000000\n",
       "mean      5.328640     5.326635  2.526422e+07     0.999819          inf\n",
       "std       2.781387     2.781796  2.084619e+07     0.028920          NaN\n",
       "min       1.620000     1.620000  0.000000e+00     0.858268     0.000000\n",
       "25%       2.985000     2.995000  1.328370e+07     0.983522     0.749006\n",
       "50%       4.300000     4.290000  1.981110e+07     0.998504     0.971195\n",
       "75%       7.360000     7.342500  3.007502e+07     1.014892     1.291609\n",
       "max      15.450000    15.200000  2.666832e+08     1.250784          inf"
      ]
     },
     "execution_count": 15,
     "metadata": {},
     "output_type": "execute_result"
    }
   ],
   "source": [
    "amd.describe()"
   ]
  },
  {
   "cell_type": "markdown",
   "metadata": {},
   "source": [
    "Do you see the table above which is short descriptive statistics of AMD.\n"
   ]
  },
  {
   "cell_type": "markdown",
   "metadata": {},
   "source": [
    "something goes wrong with vol_change column. "
   ]
  },
  {
   "cell_type": "markdown",
   "metadata": {},
   "source": [
    "Let's find out."
   ]
  },
  {
   "cell_type": "code",
   "execution_count": 16,
   "metadata": {
    "scrolled": true
   },
   "outputs": [
    {
     "data": {
      "text/html": [
       "<div>\n",
       "<style>\n",
       "    .dataframe thead tr:only-child th {\n",
       "        text-align: right;\n",
       "    }\n",
       "\n",
       "    .dataframe thead th {\n",
       "        text-align: left;\n",
       "    }\n",
       "\n",
       "    .dataframe tbody tr th {\n",
       "        vertical-align: top;\n",
       "    }\n",
       "</style>\n",
       "<table border=\"1\" class=\"dataframe\">\n",
       "  <thead>\n",
       "    <tr style=\"text-align: right;\">\n",
       "      <th></th>\n",
       "      <th>Open</th>\n",
       "      <th>Close</th>\n",
       "      <th>Volume</th>\n",
       "      <th>returns</th>\n",
       "      <th>vol_change</th>\n",
       "    </tr>\n",
       "  </thead>\n",
       "  <tbody>\n",
       "    <tr>\n",
       "      <th>2015-01-05</th>\n",
       "      <td>2.67</td>\n",
       "      <td>2.66</td>\n",
       "      <td>8878200.0</td>\n",
       "      <td>0.996255</td>\n",
       "      <td>inf</td>\n",
       "    </tr>\n",
       "  </tbody>\n",
       "</table>\n",
       "</div>"
      ],
      "text/plain": [
       "            Open  Close     Volume   returns  vol_change\n",
       "2015-01-05  2.67   2.66  8878200.0  0.996255         inf"
      ]
     },
     "execution_count": 16,
     "metadata": {},
     "output_type": "execute_result"
    }
   ],
   "source": [
    "# find if there is infinite value in dataframe\n",
    "amd.loc[amd['vol_change']==np.inf]"
   ]
  },
  {
   "cell_type": "markdown",
   "metadata": {},
   "source": [
    "There you go!"
   ]
  },
  {
   "cell_type": "markdown",
   "metadata": {},
   "source": [
    "Let's check what's happening at 2015-01-05."
   ]
  },
  {
   "cell_type": "code",
   "execution_count": 17,
   "metadata": {
    "scrolled": true
   },
   "outputs": [
    {
     "data": {
      "text/plain": [
       "Open          2.670000e+00\n",
       "Close         2.660000e+00\n",
       "Volume        8.878200e+06\n",
       "returns       9.962547e-01\n",
       "vol_change             inf\n",
       "Name: 2015-01-05, dtype: float64"
      ]
     },
     "execution_count": 17,
     "metadata": {},
     "output_type": "execute_result"
    }
   ],
   "source": [
    "amd.loc['2015-01-05']"
   ]
  },
  {
   "cell_type": "markdown",
   "metadata": {},
   "source": [
    "vol_change has infinite value."
   ]
  },
  {
   "cell_type": "code",
   "execution_count": 18,
   "metadata": {},
   "outputs": [
    {
     "data": {
      "text/html": [
       "<div>\n",
       "<style>\n",
       "    .dataframe thead tr:only-child th {\n",
       "        text-align: right;\n",
       "    }\n",
       "\n",
       "    .dataframe thead th {\n",
       "        text-align: left;\n",
       "    }\n",
       "\n",
       "    .dataframe tbody tr th {\n",
       "        vertical-align: top;\n",
       "    }\n",
       "</style>\n",
       "<table border=\"1\" class=\"dataframe\">\n",
       "  <thead>\n",
       "    <tr style=\"text-align: right;\">\n",
       "      <th></th>\n",
       "      <th>Open</th>\n",
       "      <th>Close</th>\n",
       "      <th>Volume</th>\n",
       "      <th>returns</th>\n",
       "      <th>vol_change</th>\n",
       "    </tr>\n",
       "  </thead>\n",
       "  <tbody>\n",
       "    <tr>\n",
       "      <th>2014-12-29</th>\n",
       "      <td>2.64</td>\n",
       "      <td>2.66</td>\n",
       "      <td>8527000.0</td>\n",
       "      <td>1.007576</td>\n",
       "      <td>2.116091</td>\n",
       "    </tr>\n",
       "    <tr>\n",
       "      <th>2014-12-30</th>\n",
       "      <td>2.64</td>\n",
       "      <td>2.63</td>\n",
       "      <td>7783700.0</td>\n",
       "      <td>0.996212</td>\n",
       "      <td>0.912830</td>\n",
       "    </tr>\n",
       "    <tr>\n",
       "      <th>2014-12-31</th>\n",
       "      <td>2.64</td>\n",
       "      <td>2.67</td>\n",
       "      <td>11177900.0</td>\n",
       "      <td>1.011364</td>\n",
       "      <td>1.436065</td>\n",
       "    </tr>\n",
       "    <tr>\n",
       "      <th>2015-01-02</th>\n",
       "      <td>2.67</td>\n",
       "      <td>2.67</td>\n",
       "      <td>0.0</td>\n",
       "      <td>1.000000</td>\n",
       "      <td>0.000000</td>\n",
       "    </tr>\n",
       "    <tr>\n",
       "      <th>2015-01-05</th>\n",
       "      <td>2.67</td>\n",
       "      <td>2.66</td>\n",
       "      <td>8878200.0</td>\n",
       "      <td>0.996255</td>\n",
       "      <td>inf</td>\n",
       "    </tr>\n",
       "    <tr>\n",
       "      <th>2015-01-06</th>\n",
       "      <td>2.65</td>\n",
       "      <td>2.63</td>\n",
       "      <td>13912500.0</td>\n",
       "      <td>0.992453</td>\n",
       "      <td>1.567041</td>\n",
       "    </tr>\n",
       "  </tbody>\n",
       "</table>\n",
       "</div>"
      ],
      "text/plain": [
       "            Open  Close      Volume   returns  vol_change\n",
       "2014-12-29  2.64   2.66   8527000.0  1.007576    2.116091\n",
       "2014-12-30  2.64   2.63   7783700.0  0.996212    0.912830\n",
       "2014-12-31  2.64   2.67  11177900.0  1.011364    1.436065\n",
       "2015-01-02  2.67   2.67         0.0  1.000000    0.000000\n",
       "2015-01-05  2.67   2.66   8878200.0  0.996255         inf\n",
       "2015-01-06  2.65   2.63  13912500.0  0.992453    1.567041"
      ]
     },
     "execution_count": 18,
     "metadata": {},
     "output_type": "execute_result"
    }
   ],
   "source": [
    "amd.loc['2014-12-28':'2015-01-06']"
   ]
  },
  {
   "cell_type": "markdown",
   "metadata": {},
   "source": [
    "I didn't expect this."
   ]
  },
  {
   "cell_type": "code",
   "execution_count": 19,
   "metadata": {
    "scrolled": true
   },
   "outputs": [
    {
     "data": {
      "text/plain": [
       "Open          2.670000e+00\n",
       "Close         2.660000e+00\n",
       "Volume        8.878200e+06\n",
       "returns       9.962547e-01\n",
       "vol_change    7.942637e-01\n",
       "Name: 2015-01-05, dtype: float64"
      ]
     },
     "execution_count": 19,
     "metadata": {},
     "output_type": "execute_result"
    }
   ],
   "source": [
    "# to get vol_change value at 2015-01-05, use 2014-12-31 volume cause 2015-01-02 has zero volume.\n",
    "amd['vol_change']['2015-01-05'] = amd['Volume']['2015-01-05'] / amd['Volume']['2014-12-31']\n",
    "amd.loc['2015-01-05']"
   ]
  },
  {
   "cell_type": "code",
   "execution_count": 20,
   "metadata": {},
   "outputs": [
    {
     "data": {
      "text/html": [
       "<div>\n",
       "<style>\n",
       "    .dataframe thead tr:only-child th {\n",
       "        text-align: right;\n",
       "    }\n",
       "\n",
       "    .dataframe thead th {\n",
       "        text-align: left;\n",
       "    }\n",
       "\n",
       "    .dataframe tbody tr th {\n",
       "        vertical-align: top;\n",
       "    }\n",
       "</style>\n",
       "<table border=\"1\" class=\"dataframe\">\n",
       "  <thead>\n",
       "    <tr style=\"text-align: right;\">\n",
       "      <th></th>\n",
       "      <th>Open</th>\n",
       "      <th>Close</th>\n",
       "      <th>Volume</th>\n",
       "      <th>returns</th>\n",
       "      <th>vol_change</th>\n",
       "    </tr>\n",
       "  </thead>\n",
       "  <tbody>\n",
       "    <tr>\n",
       "      <th>2014-12-29</th>\n",
       "      <td>2.64</td>\n",
       "      <td>2.66</td>\n",
       "      <td>8527000.0</td>\n",
       "      <td>1.007576</td>\n",
       "      <td>2.116091</td>\n",
       "    </tr>\n",
       "    <tr>\n",
       "      <th>2014-12-30</th>\n",
       "      <td>2.64</td>\n",
       "      <td>2.63</td>\n",
       "      <td>7783700.0</td>\n",
       "      <td>0.996212</td>\n",
       "      <td>0.912830</td>\n",
       "    </tr>\n",
       "    <tr>\n",
       "      <th>2014-12-31</th>\n",
       "      <td>2.64</td>\n",
       "      <td>2.67</td>\n",
       "      <td>11177900.0</td>\n",
       "      <td>1.011364</td>\n",
       "      <td>1.436065</td>\n",
       "    </tr>\n",
       "    <tr>\n",
       "      <th>2015-01-02</th>\n",
       "      <td>2.67</td>\n",
       "      <td>2.67</td>\n",
       "      <td>0.0</td>\n",
       "      <td>1.000000</td>\n",
       "      <td>0.000000</td>\n",
       "    </tr>\n",
       "    <tr>\n",
       "      <th>2015-01-05</th>\n",
       "      <td>2.67</td>\n",
       "      <td>2.66</td>\n",
       "      <td>8878200.0</td>\n",
       "      <td>0.996255</td>\n",
       "      <td>0.794264</td>\n",
       "    </tr>\n",
       "    <tr>\n",
       "      <th>2015-01-06</th>\n",
       "      <td>2.65</td>\n",
       "      <td>2.63</td>\n",
       "      <td>13912500.0</td>\n",
       "      <td>0.992453</td>\n",
       "      <td>1.567041</td>\n",
       "    </tr>\n",
       "  </tbody>\n",
       "</table>\n",
       "</div>"
      ],
      "text/plain": [
       "            Open  Close      Volume   returns  vol_change\n",
       "2014-12-29  2.64   2.66   8527000.0  1.007576    2.116091\n",
       "2014-12-30  2.64   2.63   7783700.0  0.996212    0.912830\n",
       "2014-12-31  2.64   2.67  11177900.0  1.011364    1.436065\n",
       "2015-01-02  2.67   2.67         0.0  1.000000    0.000000\n",
       "2015-01-05  2.67   2.66   8878200.0  0.996255    0.794264\n",
       "2015-01-06  2.65   2.63  13912500.0  0.992453    1.567041"
      ]
     },
     "execution_count": 20,
     "metadata": {},
     "output_type": "execute_result"
    }
   ],
   "source": [
    "amd.loc['2014-12-28':'2015-01-06']"
   ]
  },
  {
   "cell_type": "markdown",
   "metadata": {},
   "source": [
    "It is fixed, now delete 2015-01-02 row."
   ]
  },
  {
   "cell_type": "code",
   "execution_count": 21,
   "metadata": {},
   "outputs": [
    {
     "data": {
      "text/plain": [
       "(1999, 5)"
      ]
     },
     "execution_count": 21,
     "metadata": {},
     "output_type": "execute_result"
    }
   ],
   "source": [
    "amd.drop(['2015-01-02'], axis=0, inplace=True)\n",
    "amd.shape"
   ]
  },
  {
   "cell_type": "markdown",
   "metadata": {},
   "source": [
    "we lost one data, but it is OK, bacuase we're trying to figure out relationship between price & volume."
   ]
  },
  {
   "cell_type": "code",
   "execution_count": 22,
   "metadata": {
    "scrolled": true
   },
   "outputs": [
    {
     "data": {
      "text/html": [
       "<div>\n",
       "<style>\n",
       "    .dataframe thead tr:only-child th {\n",
       "        text-align: right;\n",
       "    }\n",
       "\n",
       "    .dataframe thead th {\n",
       "        text-align: left;\n",
       "    }\n",
       "\n",
       "    .dataframe tbody tr th {\n",
       "        vertical-align: top;\n",
       "    }\n",
       "</style>\n",
       "<table border=\"1\" class=\"dataframe\">\n",
       "  <thead>\n",
       "    <tr style=\"text-align: right;\">\n",
       "      <th></th>\n",
       "      <th>Open</th>\n",
       "      <th>Close</th>\n",
       "      <th>Volume</th>\n",
       "      <th>returns</th>\n",
       "      <th>vol_change</th>\n",
       "    </tr>\n",
       "  </thead>\n",
       "  <tbody>\n",
       "    <tr>\n",
       "      <th>count</th>\n",
       "      <td>1999.000000</td>\n",
       "      <td>1999.000000</td>\n",
       "      <td>1.999000e+03</td>\n",
       "      <td>1999.000000</td>\n",
       "      <td>1999.000000</td>\n",
       "    </tr>\n",
       "    <tr>\n",
       "      <th>mean</th>\n",
       "      <td>5.329970</td>\n",
       "      <td>5.327964</td>\n",
       "      <td>2.527686e+07</td>\n",
       "      <td>0.999819</td>\n",
       "      <td>1.122103</td>\n",
       "    </tr>\n",
       "    <tr>\n",
       "      <th>std</th>\n",
       "      <td>2.781447</td>\n",
       "      <td>2.781857</td>\n",
       "      <td>2.084374e+07</td>\n",
       "      <td>0.028928</td>\n",
       "      <td>0.653999</td>\n",
       "    </tr>\n",
       "    <tr>\n",
       "      <th>min</th>\n",
       "      <td>1.620000</td>\n",
       "      <td>1.620000</td>\n",
       "      <td>2.606600e+06</td>\n",
       "      <td>0.858268</td>\n",
       "      <td>0.214008</td>\n",
       "    </tr>\n",
       "    <tr>\n",
       "      <th>25%</th>\n",
       "      <td>3.010000</td>\n",
       "      <td>3.000000</td>\n",
       "      <td>1.328750e+07</td>\n",
       "      <td>0.983505</td>\n",
       "      <td>0.749308</td>\n",
       "    </tr>\n",
       "    <tr>\n",
       "      <th>50%</th>\n",
       "      <td>4.300000</td>\n",
       "      <td>4.290000</td>\n",
       "      <td>1.981920e+07</td>\n",
       "      <td>0.998470</td>\n",
       "      <td>0.971165</td>\n",
       "    </tr>\n",
       "    <tr>\n",
       "      <th>75%</th>\n",
       "      <td>7.360000</td>\n",
       "      <td>7.345000</td>\n",
       "      <td>3.011415e+07</td>\n",
       "      <td>1.014903</td>\n",
       "      <td>1.291481</td>\n",
       "    </tr>\n",
       "    <tr>\n",
       "      <th>max</th>\n",
       "      <td>15.450000</td>\n",
       "      <td>15.200000</td>\n",
       "      <td>2.666832e+08</td>\n",
       "      <td>1.250784</td>\n",
       "      <td>10.264616</td>\n",
       "    </tr>\n",
       "  </tbody>\n",
       "</table>\n",
       "</div>"
      ],
      "text/plain": [
       "              Open        Close        Volume      returns   vol_change\n",
       "count  1999.000000  1999.000000  1.999000e+03  1999.000000  1999.000000\n",
       "mean      5.329970     5.327964  2.527686e+07     0.999819     1.122103\n",
       "std       2.781447     2.781857  2.084374e+07     0.028928     0.653999\n",
       "min       1.620000     1.620000  2.606600e+06     0.858268     0.214008\n",
       "25%       3.010000     3.000000  1.328750e+07     0.983505     0.749308\n",
       "50%       4.300000     4.290000  1.981920e+07     0.998470     0.971165\n",
       "75%       7.360000     7.345000  3.011415e+07     1.014903     1.291481\n",
       "max      15.450000    15.200000  2.666832e+08     1.250784    10.264616"
      ]
     },
     "execution_count": 22,
     "metadata": {},
     "output_type": "execute_result"
    }
   ],
   "source": [
    "# amd.loc['2014-12-28':'2015-01-06']\n",
    "amd.describe()"
   ]
  },
  {
   "cell_type": "code",
   "execution_count": 23,
   "metadata": {},
   "outputs": [
    {
     "data": {
      "text/html": [
       "<div>\n",
       "<style>\n",
       "    .dataframe thead tr:only-child th {\n",
       "        text-align: right;\n",
       "    }\n",
       "\n",
       "    .dataframe thead th {\n",
       "        text-align: left;\n",
       "    }\n",
       "\n",
       "    .dataframe tbody tr th {\n",
       "        vertical-align: top;\n",
       "    }\n",
       "</style>\n",
       "<table border=\"1\" class=\"dataframe\">\n",
       "  <thead>\n",
       "    <tr style=\"text-align: right;\">\n",
       "      <th></th>\n",
       "      <th>Open</th>\n",
       "      <th>Close</th>\n",
       "      <th>Volume</th>\n",
       "      <th>returns</th>\n",
       "      <th>vol_change</th>\n",
       "    </tr>\n",
       "  </thead>\n",
       "  <tbody>\n",
       "    <tr>\n",
       "      <th>count</th>\n",
       "      <td>2000.000000</td>\n",
       "      <td>2000.000000</td>\n",
       "      <td>2.000000e+03</td>\n",
       "      <td>2000.000000</td>\n",
       "      <td>2000.000000</td>\n",
       "    </tr>\n",
       "    <tr>\n",
       "      <th>mean</th>\n",
       "      <td>669.140959</td>\n",
       "      <td>466.251818</td>\n",
       "      <td>4.089300e+06</td>\n",
       "      <td>0.694412</td>\n",
       "      <td>1.062356</td>\n",
       "    </tr>\n",
       "    <tr>\n",
       "      <th>std</th>\n",
       "      <td>164.962578</td>\n",
       "      <td>197.180031</td>\n",
       "      <td>2.841631e+06</td>\n",
       "      <td>0.243533</td>\n",
       "      <td>0.404848</td>\n",
       "    </tr>\n",
       "    <tr>\n",
       "      <th>min</th>\n",
       "      <td>391.950009</td>\n",
       "      <td>198.513522</td>\n",
       "      <td>5.206000e+05</td>\n",
       "      <td>0.460396</td>\n",
       "      <td>0.238485</td>\n",
       "    </tr>\n",
       "    <tr>\n",
       "      <th>25%</th>\n",
       "      <td>548.840002</td>\n",
       "      <td>291.795536</td>\n",
       "      <td>1.976875e+06</td>\n",
       "      <td>0.499380</td>\n",
       "      <td>0.806712</td>\n",
       "    </tr>\n",
       "    <tr>\n",
       "      <th>50%</th>\n",
       "      <td>611.525016</td>\n",
       "      <td>428.963964</td>\n",
       "      <td>3.713100e+06</td>\n",
       "      <td>0.504991</td>\n",
       "      <td>0.978468</td>\n",
       "    </tr>\n",
       "    <tr>\n",
       "      <th>75%</th>\n",
       "      <td>770.337494</td>\n",
       "      <td>593.177506</td>\n",
       "      <td>5.232550e+06</td>\n",
       "      <td>0.996768</td>\n",
       "      <td>1.225027</td>\n",
       "    </tr>\n",
       "    <tr>\n",
       "      <th>max</th>\n",
       "      <td>1226.800064</td>\n",
       "      <td>948.450000</td>\n",
       "      <td>2.961990e+07</td>\n",
       "      <td>1.035742</td>\n",
       "      <td>5.426504</td>\n",
       "    </tr>\n",
       "  </tbody>\n",
       "</table>\n",
       "</div>"
      ],
      "text/plain": [
       "              Open        Close        Volume      returns   vol_change\n",
       "count  2000.000000  2000.000000  2.000000e+03  2000.000000  2000.000000\n",
       "mean    669.140959   466.251818  4.089300e+06     0.694412     1.062356\n",
       "std     164.962578   197.180031  2.841631e+06     0.243533     0.404848\n",
       "min     391.950009   198.513522  5.206000e+05     0.460396     0.238485\n",
       "25%     548.840002   291.795536  1.976875e+06     0.499380     0.806712\n",
       "50%     611.525016   428.963964  3.713100e+06     0.504991     0.978468\n",
       "75%     770.337494   593.177506  5.232550e+06     0.996768     1.225027\n",
       "max    1226.800064   948.450000  2.961990e+07     1.035742     5.426504"
      ]
     },
     "execution_count": 23,
     "metadata": {},
     "output_type": "execute_result"
    }
   ],
   "source": [
    "google.describe()"
   ]
  },
  {
   "cell_type": "markdown",
   "metadata": {},
   "source": [
    "Data is ready to fit linear regression."
   ]
  },
  {
   "cell_type": "markdown",
   "metadata": {},
   "source": [
    "## Fit Model"
   ]
  },
  {
   "cell_type": "code",
   "execution_count": 24,
   "metadata": {
    "collapsed": true
   },
   "outputs": [],
   "source": [
    "# divide data for cross validation.\n",
    "from sklearn.model_selection import train_test_split\n",
    "\n",
    "# select vol_change column as X, returns as y.\n",
    "amd_X, amd_y = np.array(amd.iloc[:, 4]), np.array(amd.iloc[:,3])\n",
    "# 80% of data for train, 20% for test\n",
    "amd_X_train, amd_X_test, amd_y_train, amd_y_test = \\\n",
    "    train_test_split(amd_X, amd_y,  test_size=0.2, random_state=0)\n",
    "amd_X_train, amd_X_test = amd_X_train.reshape(-1, 1), amd_X_test.reshape(-1, 1)\n",
    "amd_y_train, amd_y_test = amd_y_train.reshape(-1, 1), amd_y_test.reshape(-1, 1)\n",
    "\n",
    "gl_X, gl_y = np.array(google.iloc[:, 4]), np.array(google.iloc[:,3])\n",
    "gl_X_train, gl_X_test, gl_y_train, gl_y_test = \\\n",
    "    train_test_split(gl_X, gl_y, test_size=0.2, random_state=0)\n",
    "gl_X_train, gl_X_test = gl_X_train.reshape(-1, 1), gl_X_test.reshape(-1, 1)    \n",
    "gl_y_train, gl_y_test = gl_y_train.reshape(-1, 1), gl_y_test.reshape(-1, 1)\n"
   ]
  },
  {
   "cell_type": "code",
   "execution_count": 25,
   "metadata": {
    "collapsed": true
   },
   "outputs": [],
   "source": [
    "from sklearn import linear_model\n",
    "\n",
    "# fit linear model\n",
    "regr1 = linear_model.LinearRegression()\n",
    "amd_regr = regr1.fit(amd_X_train, amd_y_train)"
   ]
  },
  {
   "cell_type": "code",
   "execution_count": 26,
   "metadata": {
    "collapsed": true
   },
   "outputs": [],
   "source": [
    "regr2 = linear_model.LinearRegression()\n",
    "gl_regr = regr2.fit(gl_X_train, gl_y_train)"
   ]
  },
  {
   "cell_type": "code",
   "execution_count": 27,
   "metadata": {},
   "outputs": [
    {
     "name": "stdout",
     "output_type": "stream",
     "text": [
      "amd, coefficient: 0.007\n",
      "google, coefficient: -0.005\n"
     ]
    }
   ],
   "source": [
    "print (\"amd, coefficient: %.3f\" %np.float(amd_regr.coef_))\n",
    "print (\"google, coefficient: %.3f\" %np.float(gl_regr.coef_))"
   ]
  },
  {
   "cell_type": "code",
   "execution_count": 28,
   "metadata": {},
   "outputs": [
    {
     "name": "stdout",
     "output_type": "stream",
     "text": [
      "Mean squared error of amd: 0.001\n",
      "Mean squared error of google: 0.059\n"
     ]
    }
   ],
   "source": [
    "print (\"Mean squared error of amd: %.3f\" %np.mean((amd_regr.predict(amd_X_test) - amd_y_test)**2))\n",
    "print (\"Mean squared error of google: %.3f\" %np.mean((gl_regr.predict(gl_X_test) - gl_y_test)**2))"
   ]
  },
  {
   "cell_type": "code",
   "execution_count": 29,
   "metadata": {},
   "outputs": [
    {
     "name": "stdout",
     "output_type": "stream",
     "text": [
      "Variance score: 0.027\n",
      "Variance score: 0.000\n"
     ]
    }
   ],
   "source": [
    "# Explained variance score: 1 is perfect prediction\n",
    "print('Variance score: %.3f' % amd_regr.score(amd_X_test, amd_y_test))\n",
    "print('Variance score: %.3f' % gl_regr.score(gl_X_test, gl_y_test))\n"
   ]
  },
  {
   "cell_type": "markdown",
   "metadata": {},
   "source": [
    "poor prediction :("
   ]
  },
  {
   "cell_type": "code",
   "execution_count": 30,
   "metadata": {},
   "outputs": [
    {
     "data": {
      "image/png": "[encoded data removed]",
      "text/plain": [
       "<matplotlib.figure.Figure at 0x112bf00d0>"
      ]
     },
     "metadata": {},
     "output_type": "display_data"
    }
   ],
   "source": [
    "plt.scatter(amd_X_test, amd_y_test, color='black')\n",
    "plt.plot(amd_X_test, amd_regr.predict(amd_X_test), color='blue', linewidth=3)\n",
    "plt.xlabel('Volume')\n",
    "plt.ylabel('Return')\n",
    "plt.grid(True)\n",
    "\n",
    "plt.show()\n"
   ]
  },
  {
   "cell_type": "code",
   "execution_count": 31,
   "metadata": {},
   "outputs": [
    {
     "data": {
      "image/png": "[encoded data removed]",
      "text/plain": [
       "<matplotlib.figure.Figure at 0x115f9fa50>"
      ]
     },
     "metadata": {},
     "output_type": "display_data"
    }
   ],
   "source": [
    "plt.scatter(gl_X_test, gl_y_test, color='black')\n",
    "plt.plot(gl_X_test, gl_regr.predict(gl_X_test), color='blue', linewidth=3)\n",
    "plt.xlabel('Volume')\n",
    "plt.ylabel('Return')\n",
    "plt.grid(True)\n",
    "\n",
    "plt.show()\n"
   ]
  },
  {
   "cell_type": "markdown",
   "metadata": {
    "collapsed": true
   },
   "source": [
    "## Over all results, we can't find any significant relation between daily return rate and daily volume change rate."
   ]
  }
 ],
 "metadata": {
  "kernelspec": {
   "display_name": "Python 2",
   "language": "python",
   "name": "python2"
  },
  "language_info": {
   "codemirror_mode": {
    "name": "ipython",
    "version": 2
   },
   "file_extension": ".py",
   "mimetype": "text/x-python",
   "name": "python",
   "nbconvert_exporter": "python",
   "pygments_lexer": "ipython2",
   "version": "2.7.13"
  }
 },
 "nbformat": 4,
 "nbformat_minor": 2
}
